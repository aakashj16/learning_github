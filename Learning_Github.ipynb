{
  "nbformat": 4,
  "nbformat_minor": 0,
  "metadata": {
    "colab": {
      "provenance": [],
      "authorship_tag": "ABX9TyO8Cu7X9VJvh0Aa4+qLioZT",
      "include_colab_link": true
    },
    "kernelspec": {
      "name": "python3",
      "display_name": "Python 3"
    },
    "language_info": {
      "name": "python"
    }
  },
  "cells": [
    {
      "cell_type": "markdown",
      "metadata": {
        "id": "view-in-github",
        "colab_type": "text"
      },
      "source": [
        "<a href=\"https://colab.research.google.com/github/aakashj16/learning_github/blob/main/Learning_Github.ipynb\" target=\"_parent\"><img src=\"https://colab.research.google.com/assets/colab-badge.svg\" alt=\"Open In Colab\"/></a>"
      ]
    },
    {
      "cell_type": "markdown",
      "source": [
        "## Working with Classes"
      ],
      "metadata": {
        "id": "S_FtjH7CEltT"
      }
    },
    {
      "cell_type": "code",
      "execution_count": 1,
      "metadata": {
        "id": "kU99_aYbDy7B"
      },
      "outputs": [],
      "source": [
        "class user_information:\n",
        "  '''\n",
        "  class to hold details of a user\n",
        "  '''\n",
        "  def __init__(self, name, age, gender, profession):\n",
        "    self.name = name\n",
        "    self.age = age\n",
        "    self.gender = gender\n",
        "    self.profession = profession\n",
        "\n",
        "  def user_introduction(self):\n",
        "    print(f\"Hello! My name is {self.name}. I'm {self.age} years old and I'm a {self.profession} by profession\")"
      ]
    },
    {
      "cell_type": "code",
      "source": [
        "# user 1\n",
        "\n",
        "user_1 = user_information(\"Aakash Sharma\", 31, \"Male\", \"Data Analyst\")\n",
        "\n",
        "user_1.user_introduction()"
      ],
      "metadata": {
        "colab": {
          "base_uri": "https://localhost:8080/"
        },
        "id": "EDABA8KiFmJX",
        "outputId": "01305e5b-f510-42ce-fe45-129708dacddc"
      },
      "execution_count": 2,
      "outputs": [
        {
          "output_type": "stream",
          "name": "stdout",
          "text": [
            "Hello! My name is Aakash Sharma. I'm 31 years old and I'm a Data Analyst by profession\n"
          ]
        }
      ]
    }
  ]
}