{
  "nbformat": 4,
  "nbformat_minor": 0,
  "metadata": {
    "colab": {
      "provenance": [],
      "authorship_tag": "ABX9TyMI+ZAw5uEZwiVKGXCLLLbR",
      "include_colab_link": true
    },
    "kernelspec": {
      "name": "python3",
      "display_name": "Python 3"
    },
    "language_info": {
      "name": "python"
    }
  },
  "cells": [
    {
      "cell_type": "markdown",
      "metadata": {
        "id": "view-in-github",
        "colab_type": "text"
      },
      "source": [
        "<a href=\"https://colab.research.google.com/github/aakashj16/learning_github/blob/main/Learning_Github.ipynb\" target=\"_parent\"><img src=\"https://colab.research.google.com/assets/colab-badge.svg\" alt=\"Open In Colab\"/></a>"
      ]
    },
    {
      "cell_type": "markdown",
      "source": [
        "## Working with Classes"
      ],
      "metadata": {
        "id": "S_FtjH7CEltT"
      }
    },
    {
      "cell_type": "code",
      "execution_count": 19,
      "metadata": {
        "id": "kU99_aYbDy7B"
      },
      "outputs": [],
      "source": [
        "class user_information:\n",
        "  '''\n",
        "  class to hold details of a user\n",
        "  '''\n",
        "  def __init__(self, name, age, gender, profession):\n",
        "    self.name = name\n",
        "    self.age = age\n",
        "    self.gender = gender\n",
        "    self.profession = profession\n",
        "\n",
        "  def user_introduction(self):\n",
        "    if self.profession != \"Entrepreneur\":\n",
        "      print(f\"Hello! My name is {self.name}. I'm {self.age} years old and I'm a {self.profession} by profession.\")\n",
        "    else:\n",
        "      print(f\"Hello! My name is {self.name}. I'm {self.age} years old and I'm an {self.profession}.\")"
      ]
    },
    {
      "cell_type": "code",
      "source": [
        "# user 1\n",
        "\n",
        "user_1 = user_information(\"Aakash Sharma\", 31, \"Male\", \"Data Scientist\")\n",
        "\n",
        "user_1.user_introduction()"
      ],
      "metadata": {
        "colab": {
          "base_uri": "https://localhost:8080/"
        },
        "id": "EDABA8KiFmJX",
        "outputId": "4bc1e0ed-f5fb-457b-9372-230fa5319a51"
      },
      "execution_count": 20,
      "outputs": [
        {
          "output_type": "stream",
          "name": "stdout",
          "text": [
            "Hello! My name is Aakash Sharma. I'm 31 years old and I'm a Data Scientist by profession.\n"
          ]
        }
      ]
    },
    {
      "cell_type": "code",
      "source": [
        "# user 2\n",
        "\n",
        "user_2 = user_information(\"Ashish Solanki\", 31, \"Male\", \"Entrepreneur\")\n",
        "\n",
        "user_2.user_introduction()"
      ],
      "metadata": {
        "colab": {
          "base_uri": "https://localhost:8080/"
        },
        "id": "SziIJfe5IQBT",
        "outputId": "b6d6c8b6-8ba4-4bd9-9759-0e2d0556d74a"
      },
      "execution_count": 21,
      "outputs": [
        {
          "output_type": "stream",
          "name": "stdout",
          "text": [
            "Hello! My name is Ashish Solanki. I'm 31 years old and I'm an Entrepreneur.\n"
          ]
        }
      ]
    },
    {
      "cell_type": "code",
      "source": [
        "# user 3\n",
        "\n",
        "user_3 = user_information(\"Ritika Kukreja\", 27, \"Female\", \"Data Analyst\")\n",
        "\n",
        "user_3.user_introduction()"
      ],
      "metadata": {
        "colab": {
          "base_uri": "https://localhost:8080/"
        },
        "id": "o-HkXxWnJ0zE",
        "outputId": "e9abb7a9-0c10-4894-b28e-825b2fe8aff6"
      },
      "execution_count": 22,
      "outputs": [
        {
          "output_type": "stream",
          "name": "stdout",
          "text": [
            "Hello! My name is Ritika Kukreja. I'm 27 years old and I'm a Data Analyst by profession.\n"
          ]
        }
      ]
    }
  ]
}